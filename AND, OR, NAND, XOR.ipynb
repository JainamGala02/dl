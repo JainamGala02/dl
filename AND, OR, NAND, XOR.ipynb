{
 "cells": [
  {
   "cell_type": "markdown",
   "metadata": {
    "id": "Ac31I5dE_o48"
   },
   "source": [
    "**Experiment 2**\n",
    "\n",
    "Name: Komal Chitnis\n",
    "\n",
    "Class: BE-A\n",
    "\n",
    "Moodle id: 20102068\n"
   ]
  },
  {
   "cell_type": "code",
   "execution_count": 2,
   "metadata": {
    "colab": {
     "base_uri": "https://localhost:8080/",
     "height": 0
    },
    "executionInfo": {
     "elapsed": 450,
     "status": "ok",
     "timestamp": 1710699899472,
     "user": {
      "displayName": "KOMAL CHITNIS",
      "userId": "14550219620501170388"
     },
     "user_tz": -330
    },
    "id": "6dztjwtBnhoA",
    "outputId": "1d51f855-6bd3-472f-f02d-fd46f928719b"
   },
   "outputs": [
    {
     "name": "stdout",
     "output_type": "stream",
     "text": [
      "Input Vector : \n",
      " [[0 0]\n",
      " [0 1]\n",
      " [1 0]\n",
      " [1 1]]\n",
      "Output : \n",
      " [0, 0, 0, 1]\n"
     ]
    }
   ],
   "source": [
    "# Neural Network for AND function\n",
    "import numpy as np\n",
    "class and_NN:\n",
    "  def __init__(self,iv):\n",
    "    self.input_vector = np.array(iv)\n",
    "    self.weight_vector = np.array([[-1.5,1,1]])\n",
    "    self.output = np.array([])\n",
    "\n",
    "  def compute(self):\n",
    "    mfv = np.c_[np.ones(4),self.input_vector] # padding with bias\n",
    "    result = mfv.dot(self.weight_vector.transpose()) # multipy\n",
    "    self.output = [0 if r < 0 else 1 for r in result] # simple filter\n",
    "\n",
    "  def show_result(self):\n",
    "    print(\"Input Vector : \\n\",self.input_vector)\n",
    "    print(\"Output : \\n\",self.output)\n",
    "\n",
    "  def get_output(self):\n",
    "    return self.output\n",
    "\n",
    "n = and_NN(np.array([[0,0],[0,1],[1,0],[1,1]]))\n",
    "n.compute()\n",
    "n.show_result()"
   ]
  },
  {
   "cell_type": "code",
   "execution_count": 3,
   "metadata": {
    "colab": {
     "base_uri": "https://localhost:8080/",
     "height": 0
    },
    "executionInfo": {
     "elapsed": 8,
     "status": "ok",
     "timestamp": 1710699935273,
     "user": {
      "displayName": "KOMAL CHITNIS",
      "userId": "14550219620501170388"
     },
     "user_tz": -330
    },
    "id": "uEd64RheqPTX",
    "outputId": "27ecaf01-8d84-40f3-a9d8-e68a70d35361"
   },
   "outputs": [
    {
     "name": "stdout",
     "output_type": "stream",
     "text": [
      "Input Vector : \n",
      " [[0 0]\n",
      " [0 1]\n",
      " [1 0]\n",
      " [1 1]]\n",
      "Output : \n",
      " [0, 1, 1, 1]\n"
     ]
    }
   ],
   "source": [
    "# Neural Network for OR function\n",
    "import numpy as np\n",
    "\n",
    "class or_NN:\n",
    "  def __init__(self,iv):\n",
    "    self.input_vector = np.array(iv)\n",
    "    self.weight_vector = np.array([[-0.5,1,1]])\n",
    "    self.output = np.array([])\n",
    "\n",
    "  def compute(self):\n",
    "    mfv = np.c_[np.ones(4),self.input_vector] # padding with bias\n",
    "    result = mfv.dot(self.weight_vector.transpose()) # multipy\n",
    "    self.output = [0 if r < 0 else 1 for r in result] # simple filter\n",
    "\n",
    "  def show_result(self):\n",
    "    print(\"Input Vector : \\n\",self.input_vector)\n",
    "    print(\"Output : \\n\",self.output)\n",
    "\n",
    "  def get_output(self):\n",
    "    return self.output\n",
    "\n",
    "\n",
    "n = or_NN(np.array([[0,0],[0,1],[1,0],[1,1]]))\n",
    "\n",
    "n.compute()\n",
    "n.show_result()"
   ]
  },
  {
   "cell_type": "code",
   "execution_count": 5,
   "metadata": {
    "colab": {
     "base_uri": "https://localhost:8080/",
     "height": 0
    },
    "executionInfo": {
     "elapsed": 403,
     "status": "ok",
     "timestamp": 1710700359348,
     "user": {
      "displayName": "KOMAL CHITNIS",
      "userId": "14550219620501170388"
     },
     "user_tz": -330
    },
    "id": "ozeDL43NqYMo",
    "outputId": "7c47a169-7aec-4ecd-a60f-42171e39271f"
   },
   "outputs": [
    {
     "name": "stdout",
     "output_type": "stream",
     "text": [
      "Input Vector : \n",
      " [[0 0]\n",
      " [0 1]\n",
      " [1 0]\n",
      " [1 1]]\n",
      "Output : \n",
      " [1, 1, 1, 0]\n"
     ]
    }
   ],
   "source": [
    "# Neural Network for NAND function\n",
    "import numpy as np\n",
    "\n",
    "class nand_NN:\n",
    "  def __init__(self,iv):\n",
    "    self.input_vector = np.array(iv)\n",
    "    self.weight_vector = np.array([[1.5,-1,-1]])\n",
    "    self.output = np.array([])\n",
    "\n",
    "  def compute(self):\n",
    "    mfv = np.c_[np.ones(4),self.input_vector] # padding with bias\n",
    "    result = mfv.dot(self.weight_vector.transpose()) # multipy\n",
    "    self.output = [0 if r < 0 else 1 for r in result] # simple filter\n",
    "  def show_result(self):\n",
    "    print(\"Input Vector : \\n\",self.input_vector)\n",
    "    print(\"Output : \\n\",self.output)\n",
    "\n",
    "  def get_output(self):\n",
    "    return self.output\n",
    "\n",
    "\n",
    "n = nand_NN(np.array([[0,0],[0,1],[1,0],[1,1]]))\n",
    "\n",
    "n.compute()\n",
    "n.show_result()"
   ]
  },
  {
   "cell_type": "code",
   "execution_count": 7,
   "metadata": {
    "colab": {
     "base_uri": "https://localhost:8080/",
     "height": 0
    },
    "executionInfo": {
     "elapsed": 9,
     "status": "ok",
     "timestamp": 1710700655202,
     "user": {
      "displayName": "KOMAL CHITNIS",
      "userId": "14550219620501170388"
     },
     "user_tz": -330
    },
    "id": "drexBlogr_j7",
    "outputId": "ab86b20e-b328-4fdb-9bf0-3ea8d92b6880"
   },
   "outputs": [
    {
     "name": "stdout",
     "output_type": "stream",
     "text": [
      "Input Vector : \n",
      " [[0 0]\n",
      " [0 1]\n",
      " [1 0]\n",
      " [1 1]]\n",
      "Output : \n",
      " [0, 1, 1, 0]\n"
     ]
    }
   ],
   "source": [
    "# Neural Network for XOR function\n",
    "# NN for XOR is realized using OR, NAND and AND functions\n",
    "# a xor b = (a or b) and (a nand b)\n",
    "# or and nand in the first layer, and in the second layer\n",
    "\n",
    "class xor_NN:\n",
    "  def __init__(self,iv):\n",
    "    self.input_vector = np.array(iv) # Input Layer\n",
    "    self.output = np.array([])\n",
    "\n",
    "  def compute(self):\n",
    "    or_neuron = or_NN(self.input_vector) # Layer 1\n",
    "    nand_neuron = nand_NN(self.input_vector) # Layer 1\n",
    "    or_neuron.compute()\n",
    "    nand_neuron.compute()\n",
    "    h1 = or_neuron.get_output()\n",
    "    h2 = nand_neuron.get_output()\n",
    "    h = np.concatenate((h1,h2))\n",
    "    iv_l2= h.reshape(4,2)\n",
    "    and_neuron = and_NN(iv_l2) # Layer 2\n",
    "    and_neuron.compute()\n",
    "    self.output = and_neuron.get_output()\n",
    "\n",
    "  def show_result(self):\n",
    "    print(\"Input Vector : \\n\",self.input_vector)\n",
    "    print(\"Output : \\n\",self.output)\n",
    "\n",
    "  def get_output(self):\n",
    "    return self.output\n",
    "\n",
    "n = xor_NN(np.array([[0,0],[0,1],[1,0],[1,1]]))\n",
    "\n",
    "n.compute()\n",
    "n.show_result()"
   ]
  }
 ],
 "metadata": {
  "colab": {
   "authorship_tag": "ABX9TyNCk8xYhalerqE1olc7MGLy",
   "provenance": []
  },
  "kernelspec": {
   "display_name": "Python 3 (ipykernel)",
   "language": "python",
   "name": "python3"
  },
  "language_info": {
   "codemirror_mode": {
    "name": "ipython",
    "version": 3
   },
   "file_extension": ".py",
   "mimetype": "text/x-python",
   "name": "python",
   "nbconvert_exporter": "python",
   "pygments_lexer": "ipython3",
   "version": "3.10.7"
  }
 },
 "nbformat": 4,
 "nbformat_minor": 1
}
