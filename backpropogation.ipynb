{
 "cells": [
  {
   "cell_type": "markdown",
   "metadata": {
    "id": "KytQVBwZx5o6"
   },
   "source": [
    "**Komal Mahesh Chitnis**\n",
    "\n",
    "**Moodle Id: 20102068**\n",
    "\n",
    "**Subject: Deep Learning**\n",
    "\n",
    "**Experiment No. 05**\n",
    "\n",
    "**To implement backpropagation using the Keras library.**\n"
   ]
  },
  {
   "cell_type": "code",
   "execution_count": 2,
   "metadata": {
    "executionInfo": {
     "elapsed": 4,
     "status": "ok",
     "timestamp": 1707732725181,
     "user": {
      "displayName": "KOMAL CHITNIS",
      "userId": "14550219620501170388"
     },
     "user_tz": -330
    },
    "id": "m1amrTM4x8Q0"
   },
   "outputs": [],
   "source": [
    "import pandas as pd\n",
    "import tensorflow\n",
    "from tensorflow import keras\n",
    "from keras.models import Sequential\n",
    "from keras.layers import Dense"
   ]
  },
  {
   "cell_type": "code",
   "execution_count": 4,
   "metadata": {
    "executionInfo": {
     "elapsed": 423,
     "status": "ok",
     "timestamp": 1707732820555,
     "user": {
      "displayName": "KOMAL CHITNIS",
      "userId": "14550219620501170388"
     },
     "user_tz": -330
    },
    "id": "UIpPfb50yG8b"
   },
   "outputs": [],
   "source": [
    "df = pd.read_csv('/content/drive/MyDrive/placementdataset.csv')"
   ]
  },
  {
   "cell_type": "code",
   "execution_count": 5,
   "metadata": {
    "colab": {
     "base_uri": "https://localhost:8080/",
     "height": 206
    },
    "executionInfo": {
     "elapsed": 432,
     "status": "ok",
     "timestamp": 1707732825381,
     "user": {
      "displayName": "KOMAL CHITNIS",
      "userId": "14550219620501170388"
     },
     "user_tz": -330
    },
    "id": "Ba_UjAD6yLtr",
    "outputId": "ed21b513-b136-4859-8e87-8a55329b5bf5"
   },
   "outputs": [
    {
     "data": {
      "text/html": [
       "\n",
       "  <div id=\"df-01874a67-ee22-4736-99db-2e1fb5daed34\" class=\"colab-df-container\">\n",
       "    <div>\n",
       "<style scoped>\n",
       "    .dataframe tbody tr th:only-of-type {\n",
       "        vertical-align: middle;\n",
       "    }\n",
       "\n",
       "    .dataframe tbody tr th {\n",
       "        vertical-align: top;\n",
       "    }\n",
       "\n",
       "    .dataframe thead th {\n",
       "        text-align: right;\n",
       "    }\n",
       "</style>\n",
       "<table border=\"1\" class=\"dataframe\">\n",
       "  <thead>\n",
       "    <tr style=\"text-align: right;\">\n",
       "      <th></th>\n",
       "      <th>CGPA</th>\n",
       "      <th>Profile_Score</th>\n",
       "      <th>Placed</th>\n",
       "    </tr>\n",
       "  </thead>\n",
       "  <tbody>\n",
       "    <tr>\n",
       "      <th>0</th>\n",
       "      <td>8.5</td>\n",
       "      <td>9.0</td>\n",
       "      <td>1</td>\n",
       "    </tr>\n",
       "    <tr>\n",
       "      <th>1</th>\n",
       "      <td>7.8</td>\n",
       "      <td>8.2</td>\n",
       "      <td>1</td>\n",
       "    </tr>\n",
       "    <tr>\n",
       "      <th>2</th>\n",
       "      <td>9.3</td>\n",
       "      <td>9.5</td>\n",
       "      <td>1</td>\n",
       "    </tr>\n",
       "    <tr>\n",
       "      <th>3</th>\n",
       "      <td>6.9</td>\n",
       "      <td>7.1</td>\n",
       "      <td>0</td>\n",
       "    </tr>\n",
       "    <tr>\n",
       "      <th>4</th>\n",
       "      <td>7.2</td>\n",
       "      <td>6.8</td>\n",
       "      <td>0</td>\n",
       "    </tr>\n",
       "  </tbody>\n",
       "</table>\n",
       "</div>\n",
       "    <div class=\"colab-df-buttons\">\n",
       "\n",
       "  <div class=\"colab-df-container\">\n",
       "    <button class=\"colab-df-convert\" onclick=\"convertToInteractive('df-01874a67-ee22-4736-99db-2e1fb5daed34')\"\n",
       "            title=\"Convert this dataframe to an interactive table.\"\n",
       "            style=\"display:none;\">\n",
       "\n",
       "  <svg xmlns=\"http://www.w3.org/2000/svg\" height=\"24px\" viewBox=\"0 -960 960 960\">\n",
       "    <path d=\"M120-120v-720h720v720H120Zm60-500h600v-160H180v160Zm220 220h160v-160H400v160Zm0 220h160v-160H400v160ZM180-400h160v-160H180v160Zm440 0h160v-160H620v160ZM180-180h160v-160H180v160Zm440 0h160v-160H620v160Z\"/>\n",
       "  </svg>\n",
       "    </button>\n",
       "\n",
       "  <style>\n",
       "    .colab-df-container {\n",
       "      display:flex;\n",
       "      gap: 12px;\n",
       "    }\n",
       "\n",
       "    .colab-df-convert {\n",
       "      background-color: #E8F0FE;\n",
       "      border: none;\n",
       "      border-radius: 50%;\n",
       "      cursor: pointer;\n",
       "      display: none;\n",
       "      fill: #1967D2;\n",
       "      height: 32px;\n",
       "      padding: 0 0 0 0;\n",
       "      width: 32px;\n",
       "    }\n",
       "\n",
       "    .colab-df-convert:hover {\n",
       "      background-color: #E2EBFA;\n",
       "      box-shadow: 0px 1px 2px rgba(60, 64, 67, 0.3), 0px 1px 3px 1px rgba(60, 64, 67, 0.15);\n",
       "      fill: #174EA6;\n",
       "    }\n",
       "\n",
       "    .colab-df-buttons div {\n",
       "      margin-bottom: 4px;\n",
       "    }\n",
       "\n",
       "    [theme=dark] .colab-df-convert {\n",
       "      background-color: #3B4455;\n",
       "      fill: #D2E3FC;\n",
       "    }\n",
       "\n",
       "    [theme=dark] .colab-df-convert:hover {\n",
       "      background-color: #434B5C;\n",
       "      box-shadow: 0px 1px 3px 1px rgba(0, 0, 0, 0.15);\n",
       "      filter: drop-shadow(0px 1px 2px rgba(0, 0, 0, 0.3));\n",
       "      fill: #FFFFFF;\n",
       "    }\n",
       "  </style>\n",
       "\n",
       "    <script>\n",
       "      const buttonEl =\n",
       "        document.querySelector('#df-01874a67-ee22-4736-99db-2e1fb5daed34 button.colab-df-convert');\n",
       "      buttonEl.style.display =\n",
       "        google.colab.kernel.accessAllowed ? 'block' : 'none';\n",
       "\n",
       "      async function convertToInteractive(key) {\n",
       "        const element = document.querySelector('#df-01874a67-ee22-4736-99db-2e1fb5daed34');\n",
       "        const dataTable =\n",
       "          await google.colab.kernel.invokeFunction('convertToInteractive',\n",
       "                                                    [key], {});\n",
       "        if (!dataTable) return;\n",
       "\n",
       "        const docLinkHtml = 'Like what you see? Visit the ' +\n",
       "          '<a target=\"_blank\" href=https://colab.research.google.com/notebooks/data_table.ipynb>data table notebook</a>'\n",
       "          + ' to learn more about interactive tables.';\n",
       "        element.innerHTML = '';\n",
       "        dataTable['output_type'] = 'display_data';\n",
       "        await google.colab.output.renderOutput(dataTable, element);\n",
       "        const docLink = document.createElement('div');\n",
       "        docLink.innerHTML = docLinkHtml;\n",
       "        element.appendChild(docLink);\n",
       "      }\n",
       "    </script>\n",
       "  </div>\n",
       "\n",
       "\n",
       "<div id=\"df-60997bfb-dc96-4728-bf24-d7d6033070af\">\n",
       "  <button class=\"colab-df-quickchart\" onclick=\"quickchart('df-60997bfb-dc96-4728-bf24-d7d6033070af')\"\n",
       "            title=\"Suggest charts\"\n",
       "            style=\"display:none;\">\n",
       "\n",
       "<svg xmlns=\"http://www.w3.org/2000/svg\" height=\"24px\"viewBox=\"0 0 24 24\"\n",
       "     width=\"24px\">\n",
       "    <g>\n",
       "        <path d=\"M19 3H5c-1.1 0-2 .9-2 2v14c0 1.1.9 2 2 2h14c1.1 0 2-.9 2-2V5c0-1.1-.9-2-2-2zM9 17H7v-7h2v7zm4 0h-2V7h2v10zm4 0h-2v-4h2v4z\"/>\n",
       "    </g>\n",
       "</svg>\n",
       "  </button>\n",
       "\n",
       "<style>\n",
       "  .colab-df-quickchart {\n",
       "      --bg-color: #E8F0FE;\n",
       "      --fill-color: #1967D2;\n",
       "      --hover-bg-color: #E2EBFA;\n",
       "      --hover-fill-color: #174EA6;\n",
       "      --disabled-fill-color: #AAA;\n",
       "      --disabled-bg-color: #DDD;\n",
       "  }\n",
       "\n",
       "  [theme=dark] .colab-df-quickchart {\n",
       "      --bg-color: #3B4455;\n",
       "      --fill-color: #D2E3FC;\n",
       "      --hover-bg-color: #434B5C;\n",
       "      --hover-fill-color: #FFFFFF;\n",
       "      --disabled-bg-color: #3B4455;\n",
       "      --disabled-fill-color: #666;\n",
       "  }\n",
       "\n",
       "  .colab-df-quickchart {\n",
       "    background-color: var(--bg-color);\n",
       "    border: none;\n",
       "    border-radius: 50%;\n",
       "    cursor: pointer;\n",
       "    display: none;\n",
       "    fill: var(--fill-color);\n",
       "    height: 32px;\n",
       "    padding: 0;\n",
       "    width: 32px;\n",
       "  }\n",
       "\n",
       "  .colab-df-quickchart:hover {\n",
       "    background-color: var(--hover-bg-color);\n",
       "    box-shadow: 0 1px 2px rgba(60, 64, 67, 0.3), 0 1px 3px 1px rgba(60, 64, 67, 0.15);\n",
       "    fill: var(--button-hover-fill-color);\n",
       "  }\n",
       "\n",
       "  .colab-df-quickchart-complete:disabled,\n",
       "  .colab-df-quickchart-complete:disabled:hover {\n",
       "    background-color: var(--disabled-bg-color);\n",
       "    fill: var(--disabled-fill-color);\n",
       "    box-shadow: none;\n",
       "  }\n",
       "\n",
       "  .colab-df-spinner {\n",
       "    border: 2px solid var(--fill-color);\n",
       "    border-color: transparent;\n",
       "    border-bottom-color: var(--fill-color);\n",
       "    animation:\n",
       "      spin 1s steps(1) infinite;\n",
       "  }\n",
       "\n",
       "  @keyframes spin {\n",
       "    0% {\n",
       "      border-color: transparent;\n",
       "      border-bottom-color: var(--fill-color);\n",
       "      border-left-color: var(--fill-color);\n",
       "    }\n",
       "    20% {\n",
       "      border-color: transparent;\n",
       "      border-left-color: var(--fill-color);\n",
       "      border-top-color: var(--fill-color);\n",
       "    }\n",
       "    30% {\n",
       "      border-color: transparent;\n",
       "      border-left-color: var(--fill-color);\n",
       "      border-top-color: var(--fill-color);\n",
       "      border-right-color: var(--fill-color);\n",
       "    }\n",
       "    40% {\n",
       "      border-color: transparent;\n",
       "      border-right-color: var(--fill-color);\n",
       "      border-top-color: var(--fill-color);\n",
       "    }\n",
       "    60% {\n",
       "      border-color: transparent;\n",
       "      border-right-color: var(--fill-color);\n",
       "    }\n",
       "    80% {\n",
       "      border-color: transparent;\n",
       "      border-right-color: var(--fill-color);\n",
       "      border-bottom-color: var(--fill-color);\n",
       "    }\n",
       "    90% {\n",
       "      border-color: transparent;\n",
       "      border-bottom-color: var(--fill-color);\n",
       "    }\n",
       "  }\n",
       "</style>\n",
       "\n",
       "  <script>\n",
       "    async function quickchart(key) {\n",
       "      const quickchartButtonEl =\n",
       "        document.querySelector('#' + key + ' button');\n",
       "      quickchartButtonEl.disabled = true;  // To prevent multiple clicks.\n",
       "      quickchartButtonEl.classList.add('colab-df-spinner');\n",
       "      try {\n",
       "        const charts = await google.colab.kernel.invokeFunction(\n",
       "            'suggestCharts', [key], {});\n",
       "      } catch (error) {\n",
       "        console.error('Error during call to suggestCharts:', error);\n",
       "      }\n",
       "      quickchartButtonEl.classList.remove('colab-df-spinner');\n",
       "      quickchartButtonEl.classList.add('colab-df-quickchart-complete');\n",
       "    }\n",
       "    (() => {\n",
       "      let quickchartButtonEl =\n",
       "        document.querySelector('#df-60997bfb-dc96-4728-bf24-d7d6033070af button');\n",
       "      quickchartButtonEl.style.display =\n",
       "        google.colab.kernel.accessAllowed ? 'block' : 'none';\n",
       "    })();\n",
       "  </script>\n",
       "</div>\n",
       "    </div>\n",
       "  </div>\n"
      ],
      "text/plain": [
       "   CGPA  Profile_Score  Placed\n",
       "0   8.5            9.0       1\n",
       "1   7.8            8.2       1\n",
       "2   9.3            9.5       1\n",
       "3   6.9            7.1       0\n",
       "4   7.2            6.8       0"
      ]
     },
     "execution_count": 5,
     "metadata": {},
     "output_type": "execute_result"
    }
   ],
   "source": [
    "df.head()"
   ]
  },
  {
   "cell_type": "code",
   "execution_count": 6,
   "metadata": {
    "colab": {
     "base_uri": "https://localhost:8080/",
     "height": 0
    },
    "executionInfo": {
     "elapsed": 519,
     "status": "ok",
     "timestamp": 1707732828655,
     "user": {
      "displayName": "KOMAL CHITNIS",
      "userId": "14550219620501170388"
     },
     "user_tz": -330
    },
    "id": "l30gqck5y23K",
    "outputId": "cce09f99-4c0c-4d7e-cb70-a87053b7e9ea"
   },
   "outputs": [
    {
     "data": {
      "text/plain": [
       "(100, 3)"
      ]
     },
     "execution_count": 6,
     "metadata": {},
     "output_type": "execute_result"
    }
   ],
   "source": [
    "df.shape"
   ]
  },
  {
   "cell_type": "code",
   "execution_count": 7,
   "metadata": {
    "colab": {
     "base_uri": "https://localhost:8080/",
     "height": 0
    },
    "executionInfo": {
     "elapsed": 440,
     "status": "ok",
     "timestamp": 1707732831105,
     "user": {
      "displayName": "KOMAL CHITNIS",
      "userId": "14550219620501170388"
     },
     "user_tz": -330
    },
    "id": "zOGk3XG3yZ_L",
    "outputId": "fca318b9-2c8a-4280-88ca-7c80e1443967"
   },
   "outputs": [
    {
     "data": {
      "text/plain": [
       "7"
      ]
     },
     "execution_count": 7,
     "metadata": {},
     "output_type": "execute_result"
    }
   ],
   "source": [
    "df.duplicated().sum()"
   ]
  },
  {
   "cell_type": "code",
   "execution_count": 8,
   "metadata": {
    "executionInfo": {
     "elapsed": 413,
     "status": "ok",
     "timestamp": 1707732833575,
     "user": {
      "displayName": "KOMAL CHITNIS",
      "userId": "14550219620501170388"
     },
     "user_tz": -330
    },
    "id": "HW5ulzHfyqVr"
   },
   "outputs": [],
   "source": [
    "df = df.drop_duplicates()"
   ]
  },
  {
   "cell_type": "code",
   "execution_count": 9,
   "metadata": {
    "colab": {
     "base_uri": "https://localhost:8080/",
     "height": 0
    },
    "executionInfo": {
     "elapsed": 407,
     "status": "ok",
     "timestamp": 1707732836170,
     "user": {
      "displayName": "KOMAL CHITNIS",
      "userId": "14550219620501170388"
     },
     "user_tz": -330
    },
    "id": "zErmwLsnyxpi",
    "outputId": "4bc13f5f-0b97-44a8-c379-de72a2795bee"
   },
   "outputs": [
    {
     "data": {
      "text/plain": [
       "0"
      ]
     },
     "execution_count": 9,
     "metadata": {},
     "output_type": "execute_result"
    }
   ],
   "source": [
    "df.duplicated().sum()"
   ]
  },
  {
   "cell_type": "code",
   "execution_count": 10,
   "metadata": {
    "colab": {
     "base_uri": "https://localhost:8080/",
     "height": 0
    },
    "executionInfo": {
     "elapsed": 7,
     "status": "ok",
     "timestamp": 1707732839627,
     "user": {
      "displayName": "KOMAL CHITNIS",
      "userId": "14550219620501170388"
     },
     "user_tz": -330
    },
    "id": "2uSqpJdXyyT2",
    "outputId": "8ccd5613-f376-497f-8513-ccd14ab66a4a"
   },
   "outputs": [
    {
     "data": {
      "text/plain": [
       "(93, 3)"
      ]
     },
     "execution_count": 10,
     "metadata": {},
     "output_type": "execute_result"
    }
   ],
   "source": [
    "df.shape"
   ]
  },
  {
   "cell_type": "code",
   "execution_count": 11,
   "metadata": {
    "executionInfo": {
     "elapsed": 487,
     "status": "ok",
     "timestamp": 1707732842607,
     "user": {
      "displayName": "KOMAL CHITNIS",
      "userId": "14550219620501170388"
     },
     "user_tz": -330
    },
    "id": "l_3Irsp8zXHR"
   },
   "outputs": [],
   "source": [
    "X = df[['CGPA', 'Profile_Score']]\n",
    "Y = df[['Placed']]"
   ]
  },
  {
   "cell_type": "code",
   "execution_count": 12,
   "metadata": {
    "colab": {
     "base_uri": "https://localhost:8080/",
     "height": 424
    },
    "executionInfo": {
     "elapsed": 13,
     "status": "ok",
     "timestamp": 1707732852783,
     "user": {
      "displayName": "KOMAL CHITNIS",
      "userId": "14550219620501170388"
     },
     "user_tz": -330
    },
    "id": "Fr6lzrvCz0Aw",
    "outputId": "0377bda4-000c-405b-89a1-e9ed40a768ed"
   },
   "outputs": [
    {
     "data": {
      "text/html": [
       "\n",
       "  <div id=\"df-51a3029c-3be5-4f7a-a887-35bcb3586a97\" class=\"colab-df-container\">\n",
       "    <div>\n",
       "<style scoped>\n",
       "    .dataframe tbody tr th:only-of-type {\n",
       "        vertical-align: middle;\n",
       "    }\n",
       "\n",
       "    .dataframe tbody tr th {\n",
       "        vertical-align: top;\n",
       "    }\n",
       "\n",
       "    .dataframe thead th {\n",
       "        text-align: right;\n",
       "    }\n",
       "</style>\n",
       "<table border=\"1\" class=\"dataframe\">\n",
       "  <thead>\n",
       "    <tr style=\"text-align: right;\">\n",
       "      <th></th>\n",
       "      <th>CGPA</th>\n",
       "      <th>Profile_Score</th>\n",
       "    </tr>\n",
       "  </thead>\n",
       "  <tbody>\n",
       "    <tr>\n",
       "      <th>0</th>\n",
       "      <td>8.5</td>\n",
       "      <td>9.0</td>\n",
       "    </tr>\n",
       "    <tr>\n",
       "      <th>1</th>\n",
       "      <td>7.8</td>\n",
       "      <td>8.2</td>\n",
       "    </tr>\n",
       "    <tr>\n",
       "      <th>2</th>\n",
       "      <td>9.3</td>\n",
       "      <td>9.5</td>\n",
       "    </tr>\n",
       "    <tr>\n",
       "      <th>3</th>\n",
       "      <td>6.9</td>\n",
       "      <td>7.1</td>\n",
       "    </tr>\n",
       "    <tr>\n",
       "      <th>4</th>\n",
       "      <td>7.2</td>\n",
       "      <td>6.8</td>\n",
       "    </tr>\n",
       "    <tr>\n",
       "      <th>...</th>\n",
       "      <td>...</td>\n",
       "      <td>...</td>\n",
       "    </tr>\n",
       "    <tr>\n",
       "      <th>94</th>\n",
       "      <td>5.5</td>\n",
       "      <td>5.7</td>\n",
       "    </tr>\n",
       "    <tr>\n",
       "      <th>95</th>\n",
       "      <td>7.3</td>\n",
       "      <td>7.0</td>\n",
       "    </tr>\n",
       "    <tr>\n",
       "      <th>96</th>\n",
       "      <td>7.8</td>\n",
       "      <td>8.1</td>\n",
       "    </tr>\n",
       "    <tr>\n",
       "      <th>97</th>\n",
       "      <td>5.4</td>\n",
       "      <td>5.6</td>\n",
       "    </tr>\n",
       "    <tr>\n",
       "      <th>98</th>\n",
       "      <td>7.1</td>\n",
       "      <td>7.3</td>\n",
       "    </tr>\n",
       "  </tbody>\n",
       "</table>\n",
       "<p>93 rows × 2 columns</p>\n",
       "</div>\n",
       "    <div class=\"colab-df-buttons\">\n",
       "\n",
       "  <div class=\"colab-df-container\">\n",
       "    <button class=\"colab-df-convert\" onclick=\"convertToInteractive('df-51a3029c-3be5-4f7a-a887-35bcb3586a97')\"\n",
       "            title=\"Convert this dataframe to an interactive table.\"\n",
       "            style=\"display:none;\">\n",
       "\n",
       "  <svg xmlns=\"http://www.w3.org/2000/svg\" height=\"24px\" viewBox=\"0 -960 960 960\">\n",
       "    <path d=\"M120-120v-720h720v720H120Zm60-500h600v-160H180v160Zm220 220h160v-160H400v160Zm0 220h160v-160H400v160ZM180-400h160v-160H180v160Zm440 0h160v-160H620v160ZM180-180h160v-160H180v160Zm440 0h160v-160H620v160Z\"/>\n",
       "  </svg>\n",
       "    </button>\n",
       "\n",
       "  <style>\n",
       "    .colab-df-container {\n",
       "      display:flex;\n",
       "      gap: 12px;\n",
       "    }\n",
       "\n",
       "    .colab-df-convert {\n",
       "      background-color: #E8F0FE;\n",
       "      border: none;\n",
       "      border-radius: 50%;\n",
       "      cursor: pointer;\n",
       "      display: none;\n",
       "      fill: #1967D2;\n",
       "      height: 32px;\n",
       "      padding: 0 0 0 0;\n",
       "      width: 32px;\n",
       "    }\n",
       "\n",
       "    .colab-df-convert:hover {\n",
       "      background-color: #E2EBFA;\n",
       "      box-shadow: 0px 1px 2px rgba(60, 64, 67, 0.3), 0px 1px 3px 1px rgba(60, 64, 67, 0.15);\n",
       "      fill: #174EA6;\n",
       "    }\n",
       "\n",
       "    .colab-df-buttons div {\n",
       "      margin-bottom: 4px;\n",
       "    }\n",
       "\n",
       "    [theme=dark] .colab-df-convert {\n",
       "      background-color: #3B4455;\n",
       "      fill: #D2E3FC;\n",
       "    }\n",
       "\n",
       "    [theme=dark] .colab-df-convert:hover {\n",
       "      background-color: #434B5C;\n",
       "      box-shadow: 0px 1px 3px 1px rgba(0, 0, 0, 0.15);\n",
       "      filter: drop-shadow(0px 1px 2px rgba(0, 0, 0, 0.3));\n",
       "      fill: #FFFFFF;\n",
       "    }\n",
       "  </style>\n",
       "\n",
       "    <script>\n",
       "      const buttonEl =\n",
       "        document.querySelector('#df-51a3029c-3be5-4f7a-a887-35bcb3586a97 button.colab-df-convert');\n",
       "      buttonEl.style.display =\n",
       "        google.colab.kernel.accessAllowed ? 'block' : 'none';\n",
       "\n",
       "      async function convertToInteractive(key) {\n",
       "        const element = document.querySelector('#df-51a3029c-3be5-4f7a-a887-35bcb3586a97');\n",
       "        const dataTable =\n",
       "          await google.colab.kernel.invokeFunction('convertToInteractive',\n",
       "                                                    [key], {});\n",
       "        if (!dataTable) return;\n",
       "\n",
       "        const docLinkHtml = 'Like what you see? Visit the ' +\n",
       "          '<a target=\"_blank\" href=https://colab.research.google.com/notebooks/data_table.ipynb>data table notebook</a>'\n",
       "          + ' to learn more about interactive tables.';\n",
       "        element.innerHTML = '';\n",
       "        dataTable['output_type'] = 'display_data';\n",
       "        await google.colab.output.renderOutput(dataTable, element);\n",
       "        const docLink = document.createElement('div');\n",
       "        docLink.innerHTML = docLinkHtml;\n",
       "        element.appendChild(docLink);\n",
       "      }\n",
       "    </script>\n",
       "  </div>\n",
       "\n",
       "\n",
       "<div id=\"df-f41e7cc6-356d-482a-b134-fba672950799\">\n",
       "  <button class=\"colab-df-quickchart\" onclick=\"quickchart('df-f41e7cc6-356d-482a-b134-fba672950799')\"\n",
       "            title=\"Suggest charts\"\n",
       "            style=\"display:none;\">\n",
       "\n",
       "<svg xmlns=\"http://www.w3.org/2000/svg\" height=\"24px\"viewBox=\"0 0 24 24\"\n",
       "     width=\"24px\">\n",
       "    <g>\n",
       "        <path d=\"M19 3H5c-1.1 0-2 .9-2 2v14c0 1.1.9 2 2 2h14c1.1 0 2-.9 2-2V5c0-1.1-.9-2-2-2zM9 17H7v-7h2v7zm4 0h-2V7h2v10zm4 0h-2v-4h2v4z\"/>\n",
       "    </g>\n",
       "</svg>\n",
       "  </button>\n",
       "\n",
       "<style>\n",
       "  .colab-df-quickchart {\n",
       "      --bg-color: #E8F0FE;\n",
       "      --fill-color: #1967D2;\n",
       "      --hover-bg-color: #E2EBFA;\n",
       "      --hover-fill-color: #174EA6;\n",
       "      --disabled-fill-color: #AAA;\n",
       "      --disabled-bg-color: #DDD;\n",
       "  }\n",
       "\n",
       "  [theme=dark] .colab-df-quickchart {\n",
       "      --bg-color: #3B4455;\n",
       "      --fill-color: #D2E3FC;\n",
       "      --hover-bg-color: #434B5C;\n",
       "      --hover-fill-color: #FFFFFF;\n",
       "      --disabled-bg-color: #3B4455;\n",
       "      --disabled-fill-color: #666;\n",
       "  }\n",
       "\n",
       "  .colab-df-quickchart {\n",
       "    background-color: var(--bg-color);\n",
       "    border: none;\n",
       "    border-radius: 50%;\n",
       "    cursor: pointer;\n",
       "    display: none;\n",
       "    fill: var(--fill-color);\n",
       "    height: 32px;\n",
       "    padding: 0;\n",
       "    width: 32px;\n",
       "  }\n",
       "\n",
       "  .colab-df-quickchart:hover {\n",
       "    background-color: var(--hover-bg-color);\n",
       "    box-shadow: 0 1px 2px rgba(60, 64, 67, 0.3), 0 1px 3px 1px rgba(60, 64, 67, 0.15);\n",
       "    fill: var(--button-hover-fill-color);\n",
       "  }\n",
       "\n",
       "  .colab-df-quickchart-complete:disabled,\n",
       "  .colab-df-quickchart-complete:disabled:hover {\n",
       "    background-color: var(--disabled-bg-color);\n",
       "    fill: var(--disabled-fill-color);\n",
       "    box-shadow: none;\n",
       "  }\n",
       "\n",
       "  .colab-df-spinner {\n",
       "    border: 2px solid var(--fill-color);\n",
       "    border-color: transparent;\n",
       "    border-bottom-color: var(--fill-color);\n",
       "    animation:\n",
       "      spin 1s steps(1) infinite;\n",
       "  }\n",
       "\n",
       "  @keyframes spin {\n",
       "    0% {\n",
       "      border-color: transparent;\n",
       "      border-bottom-color: var(--fill-color);\n",
       "      border-left-color: var(--fill-color);\n",
       "    }\n",
       "    20% {\n",
       "      border-color: transparent;\n",
       "      border-left-color: var(--fill-color);\n",
       "      border-top-color: var(--fill-color);\n",
       "    }\n",
       "    30% {\n",
       "      border-color: transparent;\n",
       "      border-left-color: var(--fill-color);\n",
       "      border-top-color: var(--fill-color);\n",
       "      border-right-color: var(--fill-color);\n",
       "    }\n",
       "    40% {\n",
       "      border-color: transparent;\n",
       "      border-right-color: var(--fill-color);\n",
       "      border-top-color: var(--fill-color);\n",
       "    }\n",
       "    60% {\n",
       "      border-color: transparent;\n",
       "      border-right-color: var(--fill-color);\n",
       "    }\n",
       "    80% {\n",
       "      border-color: transparent;\n",
       "      border-right-color: var(--fill-color);\n",
       "      border-bottom-color: var(--fill-color);\n",
       "    }\n",
       "    90% {\n",
       "      border-color: transparent;\n",
       "      border-bottom-color: var(--fill-color);\n",
       "    }\n",
       "  }\n",
       "</style>\n",
       "\n",
       "  <script>\n",
       "    async function quickchart(key) {\n",
       "      const quickchartButtonEl =\n",
       "        document.querySelector('#' + key + ' button');\n",
       "      quickchartButtonEl.disabled = true;  // To prevent multiple clicks.\n",
       "      quickchartButtonEl.classList.add('colab-df-spinner');\n",
       "      try {\n",
       "        const charts = await google.colab.kernel.invokeFunction(\n",
       "            'suggestCharts', [key], {});\n",
       "      } catch (error) {\n",
       "        console.error('Error during call to suggestCharts:', error);\n",
       "      }\n",
       "      quickchartButtonEl.classList.remove('colab-df-spinner');\n",
       "      quickchartButtonEl.classList.add('colab-df-quickchart-complete');\n",
       "    }\n",
       "    (() => {\n",
       "      let quickchartButtonEl =\n",
       "        document.querySelector('#df-f41e7cc6-356d-482a-b134-fba672950799 button');\n",
       "      quickchartButtonEl.style.display =\n",
       "        google.colab.kernel.accessAllowed ? 'block' : 'none';\n",
       "    })();\n",
       "  </script>\n",
       "</div>\n",
       "    </div>\n",
       "  </div>\n"
      ],
      "text/plain": [
       "    CGPA  Profile_Score\n",
       "0    8.5            9.0\n",
       "1    7.8            8.2\n",
       "2    9.3            9.5\n",
       "3    6.9            7.1\n",
       "4    7.2            6.8\n",
       "..   ...            ...\n",
       "94   5.5            5.7\n",
       "95   7.3            7.0\n",
       "96   7.8            8.1\n",
       "97   5.4            5.6\n",
       "98   7.1            7.3\n",
       "\n",
       "[93 rows x 2 columns]"
      ]
     },
     "execution_count": 12,
     "metadata": {},
     "output_type": "execute_result"
    }
   ],
   "source": [
    "X"
   ]
  },
  {
   "cell_type": "code",
   "execution_count": 13,
   "metadata": {
    "colab": {
     "base_uri": "https://localhost:8080/",
     "height": 424
    },
    "executionInfo": {
     "elapsed": 13,
     "status": "ok",
     "timestamp": 1707732855218,
     "user": {
      "displayName": "KOMAL CHITNIS",
      "userId": "14550219620501170388"
     },
     "user_tz": -330
    },
    "id": "jPNp3bQPz1ox",
    "outputId": "3e646356-b506-43be-805a-37279daf33c7"
   },
   "outputs": [
    {
     "data": {
      "text/html": [
       "\n",
       "  <div id=\"df-0ed8c9a2-eee0-4296-aeab-681d6a06d727\" class=\"colab-df-container\">\n",
       "    <div>\n",
       "<style scoped>\n",
       "    .dataframe tbody tr th:only-of-type {\n",
       "        vertical-align: middle;\n",
       "    }\n",
       "\n",
       "    .dataframe tbody tr th {\n",
       "        vertical-align: top;\n",
       "    }\n",
       "\n",
       "    .dataframe thead th {\n",
       "        text-align: right;\n",
       "    }\n",
       "</style>\n",
       "<table border=\"1\" class=\"dataframe\">\n",
       "  <thead>\n",
       "    <tr style=\"text-align: right;\">\n",
       "      <th></th>\n",
       "      <th>Placed</th>\n",
       "    </tr>\n",
       "  </thead>\n",
       "  <tbody>\n",
       "    <tr>\n",
       "      <th>0</th>\n",
       "      <td>1</td>\n",
       "    </tr>\n",
       "    <tr>\n",
       "      <th>1</th>\n",
       "      <td>1</td>\n",
       "    </tr>\n",
       "    <tr>\n",
       "      <th>2</th>\n",
       "      <td>1</td>\n",
       "    </tr>\n",
       "    <tr>\n",
       "      <th>3</th>\n",
       "      <td>0</td>\n",
       "    </tr>\n",
       "    <tr>\n",
       "      <th>4</th>\n",
       "      <td>0</td>\n",
       "    </tr>\n",
       "    <tr>\n",
       "      <th>...</th>\n",
       "      <td>...</td>\n",
       "    </tr>\n",
       "    <tr>\n",
       "      <th>94</th>\n",
       "      <td>0</td>\n",
       "    </tr>\n",
       "    <tr>\n",
       "      <th>95</th>\n",
       "      <td>0</td>\n",
       "    </tr>\n",
       "    <tr>\n",
       "      <th>96</th>\n",
       "      <td>1</td>\n",
       "    </tr>\n",
       "    <tr>\n",
       "      <th>97</th>\n",
       "      <td>0</td>\n",
       "    </tr>\n",
       "    <tr>\n",
       "      <th>98</th>\n",
       "      <td>0</td>\n",
       "    </tr>\n",
       "  </tbody>\n",
       "</table>\n",
       "<p>93 rows × 1 columns</p>\n",
       "</div>\n",
       "    <div class=\"colab-df-buttons\">\n",
       "\n",
       "  <div class=\"colab-df-container\">\n",
       "    <button class=\"colab-df-convert\" onclick=\"convertToInteractive('df-0ed8c9a2-eee0-4296-aeab-681d6a06d727')\"\n",
       "            title=\"Convert this dataframe to an interactive table.\"\n",
       "            style=\"display:none;\">\n",
       "\n",
       "  <svg xmlns=\"http://www.w3.org/2000/svg\" height=\"24px\" viewBox=\"0 -960 960 960\">\n",
       "    <path d=\"M120-120v-720h720v720H120Zm60-500h600v-160H180v160Zm220 220h160v-160H400v160Zm0 220h160v-160H400v160ZM180-400h160v-160H180v160Zm440 0h160v-160H620v160ZM180-180h160v-160H180v160Zm440 0h160v-160H620v160Z\"/>\n",
       "  </svg>\n",
       "    </button>\n",
       "\n",
       "  <style>\n",
       "    .colab-df-container {\n",
       "      display:flex;\n",
       "      gap: 12px;\n",
       "    }\n",
       "\n",
       "    .colab-df-convert {\n",
       "      background-color: #E8F0FE;\n",
       "      border: none;\n",
       "      border-radius: 50%;\n",
       "      cursor: pointer;\n",
       "      display: none;\n",
       "      fill: #1967D2;\n",
       "      height: 32px;\n",
       "      padding: 0 0 0 0;\n",
       "      width: 32px;\n",
       "    }\n",
       "\n",
       "    .colab-df-convert:hover {\n",
       "      background-color: #E2EBFA;\n",
       "      box-shadow: 0px 1px 2px rgba(60, 64, 67, 0.3), 0px 1px 3px 1px rgba(60, 64, 67, 0.15);\n",
       "      fill: #174EA6;\n",
       "    }\n",
       "\n",
       "    .colab-df-buttons div {\n",
       "      margin-bottom: 4px;\n",
       "    }\n",
       "\n",
       "    [theme=dark] .colab-df-convert {\n",
       "      background-color: #3B4455;\n",
       "      fill: #D2E3FC;\n",
       "    }\n",
       "\n",
       "    [theme=dark] .colab-df-convert:hover {\n",
       "      background-color: #434B5C;\n",
       "      box-shadow: 0px 1px 3px 1px rgba(0, 0, 0, 0.15);\n",
       "      filter: drop-shadow(0px 1px 2px rgba(0, 0, 0, 0.3));\n",
       "      fill: #FFFFFF;\n",
       "    }\n",
       "  </style>\n",
       "\n",
       "    <script>\n",
       "      const buttonEl =\n",
       "        document.querySelector('#df-0ed8c9a2-eee0-4296-aeab-681d6a06d727 button.colab-df-convert');\n",
       "      buttonEl.style.display =\n",
       "        google.colab.kernel.accessAllowed ? 'block' : 'none';\n",
       "\n",
       "      async function convertToInteractive(key) {\n",
       "        const element = document.querySelector('#df-0ed8c9a2-eee0-4296-aeab-681d6a06d727');\n",
       "        const dataTable =\n",
       "          await google.colab.kernel.invokeFunction('convertToInteractive',\n",
       "                                                    [key], {});\n",
       "        if (!dataTable) return;\n",
       "\n",
       "        const docLinkHtml = 'Like what you see? Visit the ' +\n",
       "          '<a target=\"_blank\" href=https://colab.research.google.com/notebooks/data_table.ipynb>data table notebook</a>'\n",
       "          + ' to learn more about interactive tables.';\n",
       "        element.innerHTML = '';\n",
       "        dataTable['output_type'] = 'display_data';\n",
       "        await google.colab.output.renderOutput(dataTable, element);\n",
       "        const docLink = document.createElement('div');\n",
       "        docLink.innerHTML = docLinkHtml;\n",
       "        element.appendChild(docLink);\n",
       "      }\n",
       "    </script>\n",
       "  </div>\n",
       "\n",
       "\n",
       "<div id=\"df-53cef45c-c4f7-4bd1-b904-1cf60d3dca47\">\n",
       "  <button class=\"colab-df-quickchart\" onclick=\"quickchart('df-53cef45c-c4f7-4bd1-b904-1cf60d3dca47')\"\n",
       "            title=\"Suggest charts\"\n",
       "            style=\"display:none;\">\n",
       "\n",
       "<svg xmlns=\"http://www.w3.org/2000/svg\" height=\"24px\"viewBox=\"0 0 24 24\"\n",
       "     width=\"24px\">\n",
       "    <g>\n",
       "        <path d=\"M19 3H5c-1.1 0-2 .9-2 2v14c0 1.1.9 2 2 2h14c1.1 0 2-.9 2-2V5c0-1.1-.9-2-2-2zM9 17H7v-7h2v7zm4 0h-2V7h2v10zm4 0h-2v-4h2v4z\"/>\n",
       "    </g>\n",
       "</svg>\n",
       "  </button>\n",
       "\n",
       "<style>\n",
       "  .colab-df-quickchart {\n",
       "      --bg-color: #E8F0FE;\n",
       "      --fill-color: #1967D2;\n",
       "      --hover-bg-color: #E2EBFA;\n",
       "      --hover-fill-color: #174EA6;\n",
       "      --disabled-fill-color: #AAA;\n",
       "      --disabled-bg-color: #DDD;\n",
       "  }\n",
       "\n",
       "  [theme=dark] .colab-df-quickchart {\n",
       "      --bg-color: #3B4455;\n",
       "      --fill-color: #D2E3FC;\n",
       "      --hover-bg-color: #434B5C;\n",
       "      --hover-fill-color: #FFFFFF;\n",
       "      --disabled-bg-color: #3B4455;\n",
       "      --disabled-fill-color: #666;\n",
       "  }\n",
       "\n",
       "  .colab-df-quickchart {\n",
       "    background-color: var(--bg-color);\n",
       "    border: none;\n",
       "    border-radius: 50%;\n",
       "    cursor: pointer;\n",
       "    display: none;\n",
       "    fill: var(--fill-color);\n",
       "    height: 32px;\n",
       "    padding: 0;\n",
       "    width: 32px;\n",
       "  }\n",
       "\n",
       "  .colab-df-quickchart:hover {\n",
       "    background-color: var(--hover-bg-color);\n",
       "    box-shadow: 0 1px 2px rgba(60, 64, 67, 0.3), 0 1px 3px 1px rgba(60, 64, 67, 0.15);\n",
       "    fill: var(--button-hover-fill-color);\n",
       "  }\n",
       "\n",
       "  .colab-df-quickchart-complete:disabled,\n",
       "  .colab-df-quickchart-complete:disabled:hover {\n",
       "    background-color: var(--disabled-bg-color);\n",
       "    fill: var(--disabled-fill-color);\n",
       "    box-shadow: none;\n",
       "  }\n",
       "\n",
       "  .colab-df-spinner {\n",
       "    border: 2px solid var(--fill-color);\n",
       "    border-color: transparent;\n",
       "    border-bottom-color: var(--fill-color);\n",
       "    animation:\n",
       "      spin 1s steps(1) infinite;\n",
       "  }\n",
       "\n",
       "  @keyframes spin {\n",
       "    0% {\n",
       "      border-color: transparent;\n",
       "      border-bottom-color: var(--fill-color);\n",
       "      border-left-color: var(--fill-color);\n",
       "    }\n",
       "    20% {\n",
       "      border-color: transparent;\n",
       "      border-left-color: var(--fill-color);\n",
       "      border-top-color: var(--fill-color);\n",
       "    }\n",
       "    30% {\n",
       "      border-color: transparent;\n",
       "      border-left-color: var(--fill-color);\n",
       "      border-top-color: var(--fill-color);\n",
       "      border-right-color: var(--fill-color);\n",
       "    }\n",
       "    40% {\n",
       "      border-color: transparent;\n",
       "      border-right-color: var(--fill-color);\n",
       "      border-top-color: var(--fill-color);\n",
       "    }\n",
       "    60% {\n",
       "      border-color: transparent;\n",
       "      border-right-color: var(--fill-color);\n",
       "    }\n",
       "    80% {\n",
       "      border-color: transparent;\n",
       "      border-right-color: var(--fill-color);\n",
       "      border-bottom-color: var(--fill-color);\n",
       "    }\n",
       "    90% {\n",
       "      border-color: transparent;\n",
       "      border-bottom-color: var(--fill-color);\n",
       "    }\n",
       "  }\n",
       "</style>\n",
       "\n",
       "  <script>\n",
       "    async function quickchart(key) {\n",
       "      const quickchartButtonEl =\n",
       "        document.querySelector('#' + key + ' button');\n",
       "      quickchartButtonEl.disabled = true;  // To prevent multiple clicks.\n",
       "      quickchartButtonEl.classList.add('colab-df-spinner');\n",
       "      try {\n",
       "        const charts = await google.colab.kernel.invokeFunction(\n",
       "            'suggestCharts', [key], {});\n",
       "      } catch (error) {\n",
       "        console.error('Error during call to suggestCharts:', error);\n",
       "      }\n",
       "      quickchartButtonEl.classList.remove('colab-df-spinner');\n",
       "      quickchartButtonEl.classList.add('colab-df-quickchart-complete');\n",
       "    }\n",
       "    (() => {\n",
       "      let quickchartButtonEl =\n",
       "        document.querySelector('#df-53cef45c-c4f7-4bd1-b904-1cf60d3dca47 button');\n",
       "      quickchartButtonEl.style.display =\n",
       "        google.colab.kernel.accessAllowed ? 'block' : 'none';\n",
       "    })();\n",
       "  </script>\n",
       "</div>\n",
       "    </div>\n",
       "  </div>\n"
      ],
      "text/plain": [
       "    Placed\n",
       "0        1\n",
       "1        1\n",
       "2        1\n",
       "3        0\n",
       "4        0\n",
       "..     ...\n",
       "94       0\n",
       "95       0\n",
       "96       1\n",
       "97       0\n",
       "98       0\n",
       "\n",
       "[93 rows x 1 columns]"
      ]
     },
     "execution_count": 13,
     "metadata": {},
     "output_type": "execute_result"
    }
   ],
   "source": [
    "Y"
   ]
  },
  {
   "cell_type": "code",
   "execution_count": 14,
   "metadata": {
    "executionInfo": {
     "elapsed": 484,
     "status": "ok",
     "timestamp": 1707732993063,
     "user": {
      "displayName": "KOMAL CHITNIS",
      "userId": "14550219620501170388"
     },
     "user_tz": -330
    },
    "id": "jotXgLowz2Rg"
   },
   "outputs": [],
   "source": [
    "model = Sequential()\n",
    "model.add(Dense(4, input_dim=2, activation='relu'))\n",
    "model.add(Dense(4, activation='relu'))\n",
    "model.add(Dense(1, activation='sigmoid'))"
   ]
  },
  {
   "cell_type": "code",
   "execution_count": 15,
   "metadata": {
    "colab": {
     "base_uri": "https://localhost:8080/",
     "height": 0
    },
    "executionInfo": {
     "elapsed": 22,
     "status": "ok",
     "timestamp": 1707733040260,
     "user": {
      "displayName": "KOMAL CHITNIS",
      "userId": "14550219620501170388"
     },
     "user_tz": -330
    },
    "id": "eq3v1q1B0ffG",
    "outputId": "1c287593-9605-47c7-b2b0-e0c8431f3826"
   },
   "outputs": [
    {
     "name": "stdout",
     "output_type": "stream",
     "text": [
      "Model: \"sequential\"\n",
      "_________________________________________________________________\n",
      " Layer (type)                Output Shape              Param #   \n",
      "=================================================================\n",
      " dense (Dense)               (None, 4)                 12        \n",
      "                                                                 \n",
      " dense_1 (Dense)             (None, 4)                 20        \n",
      "                                                                 \n",
      " dense_2 (Dense)             (None, 1)                 5         \n",
      "                                                                 \n",
      "=================================================================\n",
      "Total params: 37 (148.00 Byte)\n",
      "Trainable params: 37 (148.00 Byte)\n",
      "Non-trainable params: 0 (0.00 Byte)\n",
      "_________________________________________________________________\n"
     ]
    }
   ],
   "source": [
    "model.summary()"
   ]
  },
  {
   "cell_type": "code",
   "execution_count": 16,
   "metadata": {
    "colab": {
     "base_uri": "https://localhost:8080/",
     "height": 0
    },
    "executionInfo": {
     "elapsed": 397,
     "status": "ok",
     "timestamp": 1707733093731,
     "user": {
      "displayName": "KOMAL CHITNIS",
      "userId": "14550219620501170388"
     },
     "user_tz": -330
    },
    "id": "u0IhqHe20je_",
    "outputId": "885b800f-8d90-456b-f8bc-8be05dcf3501"
   },
   "outputs": [
    {
     "data": {
      "text/plain": [
       "[array([[ 0.2558055 , -0.00517392, -0.6068382 ,  0.1281383 ],\n",
       "        [-0.616061  , -0.41293097,  0.01912618, -0.87138605]],\n",
       "       dtype=float32),\n",
       " array([0., 0., 0., 0.], dtype=float32),\n",
       " array([[-0.45425954, -0.37949872, -0.85665053, -0.44299728],\n",
       "        [-0.16405427,  0.54058367,  0.8571934 ,  0.83807963],\n",
       "        [-0.29991752, -0.32164216, -0.8263092 ,  0.06612742],\n",
       "        [-0.8160659 ,  0.14506215,  0.44490033, -0.20175856]],\n",
       "       dtype=float32),\n",
       " array([0., 0., 0., 0.], dtype=float32),\n",
       " array([[ 0.5810325 ],\n",
       "        [-0.6226666 ],\n",
       "        [ 0.6775305 ],\n",
       "        [-0.25321466]], dtype=float32),\n",
       " array([0.], dtype=float32)]"
      ]
     },
     "execution_count": 16,
     "metadata": {},
     "output_type": "execute_result"
    }
   ],
   "source": [
    "model.get_weights()"
   ]
  },
  {
   "cell_type": "code",
   "execution_count": 17,
   "metadata": {
    "executionInfo": {
     "elapsed": 6,
     "status": "ok",
     "timestamp": 1707733190739,
     "user": {
      "displayName": "KOMAL CHITNIS",
      "userId": "14550219620501170388"
     },
     "user_tz": -330
    },
    "id": "PlwOOTxy0wdu"
   },
   "outputs": [],
   "source": [
    "model.compile(loss='binary_crossentropy', optimizer='adam', metrics=['accuracy'])"
   ]
  },
  {
   "cell_type": "code",
   "execution_count": 18,
   "metadata": {
    "colab": {
     "base_uri": "https://localhost:8080/",
     "height": 0
    },
    "executionInfo": {
     "elapsed": 19689,
     "status": "ok",
     "timestamp": 1707733324563,
     "user": {
      "displayName": "KOMAL CHITNIS",
      "userId": "14550219620501170388"
     },
     "user_tz": -330
    },
    "id": "3EFlObuf1ITd",
    "outputId": "2efc4b94-65f9-45a9-84f1-c8acb19a8d15"
   },
   "outputs": [
    {
     "name": "stdout",
     "output_type": "stream",
     "text": [
      "Epoch 1/100\n",
      "93/93 [==============================] - 1s 2ms/step - loss: 0.6927 - accuracy: 0.5699\n",
      "Epoch 2/100\n",
      "93/93 [==============================] - 0s 2ms/step - loss: 0.6919 - accuracy: 0.5806\n",
      "Epoch 3/100\n",
      "93/93 [==============================] - 0s 3ms/step - loss: 0.6906 - accuracy: 0.5806\n",
      "Epoch 4/100\n",
      "93/93 [==============================] - 0s 2ms/step - loss: 0.6896 - accuracy: 0.5806\n",
      "Epoch 5/100\n",
      "93/93 [==============================] - 0s 2ms/step - loss: 0.6888 - accuracy: 0.5806\n",
      "Epoch 6/100\n",
      "93/93 [==============================] - 0s 2ms/step - loss: 0.6879 - accuracy: 0.5806\n",
      "Epoch 7/100\n",
      "93/93 [==============================] - 0s 2ms/step - loss: 0.6873 - accuracy: 0.5806\n",
      "Epoch 8/100\n",
      "93/93 [==============================] - 0s 3ms/step - loss: 0.6866 - accuracy: 0.5806\n",
      "Epoch 9/100\n",
      "93/93 [==============================] - 0s 2ms/step - loss: 0.6862 - accuracy: 0.5806\n",
      "Epoch 10/100\n",
      "93/93 [==============================] - 0s 2ms/step - loss: 0.6856 - accuracy: 0.5806\n",
      "Epoch 11/100\n",
      "93/93 [==============================] - 0s 3ms/step - loss: 0.6853 - accuracy: 0.5806\n",
      "Epoch 12/100\n",
      "93/93 [==============================] - 0s 3ms/step - loss: 0.6849 - accuracy: 0.5806\n",
      "Epoch 13/100\n",
      "93/93 [==============================] - 0s 3ms/step - loss: 0.6843 - accuracy: 0.5806\n",
      "Epoch 14/100\n",
      "93/93 [==============================] - 0s 2ms/step - loss: 0.6840 - accuracy: 0.5806\n",
      "Epoch 15/100\n",
      "93/93 [==============================] - 0s 3ms/step - loss: 0.6836 - accuracy: 0.5806\n",
      "Epoch 16/100\n",
      "93/93 [==============================] - 0s 2ms/step - loss: 0.6833 - accuracy: 0.5806\n",
      "Epoch 17/100\n",
      "93/93 [==============================] - 0s 2ms/step - loss: 0.6830 - accuracy: 0.5806\n",
      "Epoch 18/100\n",
      "93/93 [==============================] - 0s 2ms/step - loss: 0.6828 - accuracy: 0.5806\n",
      "Epoch 19/100\n",
      "93/93 [==============================] - 0s 2ms/step - loss: 0.6827 - accuracy: 0.5806\n",
      "Epoch 20/100\n",
      "93/93 [==============================] - 0s 2ms/step - loss: 0.6823 - accuracy: 0.5806\n",
      "Epoch 21/100\n",
      "93/93 [==============================] - 0s 2ms/step - loss: 0.6822 - accuracy: 0.5806\n",
      "Epoch 22/100\n",
      "93/93 [==============================] - 0s 2ms/step - loss: 0.6820 - accuracy: 0.5806\n",
      "Epoch 23/100\n",
      "93/93 [==============================] - 0s 2ms/step - loss: 0.6819 - accuracy: 0.5806\n",
      "Epoch 24/100\n",
      "93/93 [==============================] - 0s 2ms/step - loss: 0.6817 - accuracy: 0.5806\n",
      "Epoch 25/100\n",
      "93/93 [==============================] - 0s 2ms/step - loss: 0.6816 - accuracy: 0.5806\n",
      "Epoch 26/100\n",
      "93/93 [==============================] - 0s 2ms/step - loss: 0.6815 - accuracy: 0.5806\n",
      "Epoch 27/100\n",
      "93/93 [==============================] - 0s 2ms/step - loss: 0.6813 - accuracy: 0.5806\n",
      "Epoch 28/100\n",
      "93/93 [==============================] - 0s 2ms/step - loss: 0.6812 - accuracy: 0.5806\n",
      "Epoch 29/100\n",
      "93/93 [==============================] - 0s 2ms/step - loss: 0.6811 - accuracy: 0.5806\n",
      "Epoch 30/100\n",
      "93/93 [==============================] - 0s 2ms/step - loss: 0.6811 - accuracy: 0.5806\n",
      "Epoch 31/100\n",
      "93/93 [==============================] - 0s 2ms/step - loss: 0.6810 - accuracy: 0.5806\n",
      "Epoch 32/100\n",
      "93/93 [==============================] - 0s 2ms/step - loss: 0.6810 - accuracy: 0.5806\n",
      "Epoch 33/100\n",
      "93/93 [==============================] - 0s 2ms/step - loss: 0.6809 - accuracy: 0.5806\n",
      "Epoch 34/100\n",
      "93/93 [==============================] - 0s 2ms/step - loss: 0.6808 - accuracy: 0.5806\n",
      "Epoch 35/100\n",
      "93/93 [==============================] - 0s 2ms/step - loss: 0.6808 - accuracy: 0.5806\n",
      "Epoch 36/100\n",
      "93/93 [==============================] - 0s 2ms/step - loss: 0.6806 - accuracy: 0.5806\n",
      "Epoch 37/100\n",
      "93/93 [==============================] - 0s 2ms/step - loss: 0.6808 - accuracy: 0.5806\n",
      "Epoch 38/100\n",
      "93/93 [==============================] - 0s 2ms/step - loss: 0.6807 - accuracy: 0.5806\n",
      "Epoch 39/100\n",
      "93/93 [==============================] - 0s 2ms/step - loss: 0.6807 - accuracy: 0.5806\n",
      "Epoch 40/100\n",
      "93/93 [==============================] - 0s 2ms/step - loss: 0.6805 - accuracy: 0.5806\n",
      "Epoch 41/100\n",
      "93/93 [==============================] - 0s 2ms/step - loss: 0.6807 - accuracy: 0.5806\n",
      "Epoch 42/100\n",
      "93/93 [==============================] - 0s 2ms/step - loss: 0.6806 - accuracy: 0.5806\n",
      "Epoch 43/100\n",
      "93/93 [==============================] - 0s 2ms/step - loss: 0.6807 - accuracy: 0.5806\n",
      "Epoch 44/100\n",
      "93/93 [==============================] - 0s 2ms/step - loss: 0.6805 - accuracy: 0.5806\n",
      "Epoch 45/100\n",
      "93/93 [==============================] - 0s 2ms/step - loss: 0.6805 - accuracy: 0.5806\n",
      "Epoch 46/100\n",
      "93/93 [==============================] - 0s 2ms/step - loss: 0.6804 - accuracy: 0.5806\n",
      "Epoch 47/100\n",
      "93/93 [==============================] - 0s 2ms/step - loss: 0.6804 - accuracy: 0.5806\n",
      "Epoch 48/100\n",
      "93/93 [==============================] - 0s 2ms/step - loss: 0.6805 - accuracy: 0.5806\n",
      "Epoch 49/100\n",
      "93/93 [==============================] - 0s 2ms/step - loss: 0.6804 - accuracy: 0.5806\n",
      "Epoch 50/100\n",
      "93/93 [==============================] - 0s 2ms/step - loss: 0.6805 - accuracy: 0.5806\n",
      "Epoch 51/100\n",
      "93/93 [==============================] - 0s 2ms/step - loss: 0.6804 - accuracy: 0.5806\n",
      "Epoch 52/100\n",
      "93/93 [==============================] - 0s 2ms/step - loss: 0.6804 - accuracy: 0.5806\n",
      "Epoch 53/100\n",
      "93/93 [==============================] - 0s 2ms/step - loss: 0.6804 - accuracy: 0.5806\n",
      "Epoch 54/100\n",
      "93/93 [==============================] - 0s 2ms/step - loss: 0.6805 - accuracy: 0.5806\n",
      "Epoch 55/100\n",
      "93/93 [==============================] - 0s 2ms/step - loss: 0.6804 - accuracy: 0.5806\n",
      "Epoch 56/100\n",
      "93/93 [==============================] - 0s 2ms/step - loss: 0.6805 - accuracy: 0.5806\n",
      "Epoch 57/100\n",
      "93/93 [==============================] - 0s 2ms/step - loss: 0.6803 - accuracy: 0.5806\n",
      "Epoch 58/100\n",
      "93/93 [==============================] - 0s 2ms/step - loss: 0.6804 - accuracy: 0.5806\n",
      "Epoch 59/100\n",
      "93/93 [==============================] - 0s 2ms/step - loss: 0.6803 - accuracy: 0.5806\n",
      "Epoch 60/100\n",
      "93/93 [==============================] - 0s 2ms/step - loss: 0.6803 - accuracy: 0.5806\n",
      "Epoch 61/100\n",
      "93/93 [==============================] - 0s 2ms/step - loss: 0.6803 - accuracy: 0.5806\n",
      "Epoch 62/100\n",
      "93/93 [==============================] - 0s 2ms/step - loss: 0.6802 - accuracy: 0.5806\n",
      "Epoch 63/100\n",
      "93/93 [==============================] - 0s 2ms/step - loss: 0.6803 - accuracy: 0.5806\n",
      "Epoch 64/100\n",
      "93/93 [==============================] - 0s 2ms/step - loss: 0.6803 - accuracy: 0.5806\n",
      "Epoch 65/100\n",
      "93/93 [==============================] - 0s 2ms/step - loss: 0.6803 - accuracy: 0.5806\n",
      "Epoch 66/100\n",
      "93/93 [==============================] - 0s 2ms/step - loss: 0.6805 - accuracy: 0.5806\n",
      "Epoch 67/100\n",
      "93/93 [==============================] - 0s 2ms/step - loss: 0.6803 - accuracy: 0.5806\n",
      "Epoch 68/100\n",
      "93/93 [==============================] - 0s 2ms/step - loss: 0.6802 - accuracy: 0.5806\n",
      "Epoch 69/100\n",
      "93/93 [==============================] - 0s 2ms/step - loss: 0.6803 - accuracy: 0.5806\n",
      "Epoch 70/100\n",
      "93/93 [==============================] - 0s 2ms/step - loss: 0.6802 - accuracy: 0.5806\n",
      "Epoch 71/100\n",
      "93/93 [==============================] - 0s 2ms/step - loss: 0.6803 - accuracy: 0.5806\n",
      "Epoch 72/100\n",
      "93/93 [==============================] - 0s 2ms/step - loss: 0.6803 - accuracy: 0.5806\n",
      "Epoch 73/100\n",
      "93/93 [==============================] - 0s 2ms/step - loss: 0.6802 - accuracy: 0.5806\n",
      "Epoch 74/100\n",
      "93/93 [==============================] - 0s 2ms/step - loss: 0.6804 - accuracy: 0.5806\n",
      "Epoch 75/100\n",
      "93/93 [==============================] - 0s 2ms/step - loss: 0.6802 - accuracy: 0.5806\n",
      "Epoch 76/100\n",
      "93/93 [==============================] - 0s 2ms/step - loss: 0.6803 - accuracy: 0.5806\n",
      "Epoch 77/100\n",
      "93/93 [==============================] - 0s 2ms/step - loss: 0.6802 - accuracy: 0.5806\n",
      "Epoch 78/100\n",
      "93/93 [==============================] - 0s 2ms/step - loss: 0.6803 - accuracy: 0.5806\n",
      "Epoch 79/100\n",
      "93/93 [==============================] - 0s 3ms/step - loss: 0.6803 - accuracy: 0.5806\n",
      "Epoch 80/100\n",
      "93/93 [==============================] - 0s 3ms/step - loss: 0.6803 - accuracy: 0.5806\n",
      "Epoch 81/100\n",
      "93/93 [==============================] - 0s 2ms/step - loss: 0.6802 - accuracy: 0.5806\n",
      "Epoch 82/100\n",
      "93/93 [==============================] - 0s 2ms/step - loss: 0.6802 - accuracy: 0.5806\n",
      "Epoch 83/100\n",
      "93/93 [==============================] - 0s 2ms/step - loss: 0.6805 - accuracy: 0.5806\n",
      "Epoch 84/100\n",
      "93/93 [==============================] - 0s 2ms/step - loss: 0.6803 - accuracy: 0.5806\n",
      "Epoch 85/100\n",
      "93/93 [==============================] - 0s 2ms/step - loss: 0.6803 - accuracy: 0.5806\n",
      "Epoch 86/100\n",
      "93/93 [==============================] - 0s 2ms/step - loss: 0.6803 - accuracy: 0.5806\n",
      "Epoch 87/100\n",
      "93/93 [==============================] - 0s 2ms/step - loss: 0.6803 - accuracy: 0.5806\n",
      "Epoch 88/100\n",
      "93/93 [==============================] - 0s 2ms/step - loss: 0.6803 - accuracy: 0.5806\n",
      "Epoch 89/100\n",
      "93/93 [==============================] - 0s 2ms/step - loss: 0.6802 - accuracy: 0.5806\n",
      "Epoch 90/100\n",
      "93/93 [==============================] - 0s 2ms/step - loss: 0.6802 - accuracy: 0.5806\n",
      "Epoch 91/100\n",
      "93/93 [==============================] - 0s 2ms/step - loss: 0.6803 - accuracy: 0.5806\n",
      "Epoch 92/100\n",
      "93/93 [==============================] - 0s 3ms/step - loss: 0.6804 - accuracy: 0.5806\n",
      "Epoch 93/100\n",
      "93/93 [==============================] - 0s 3ms/step - loss: 0.6803 - accuracy: 0.5806\n",
      "Epoch 94/100\n",
      "93/93 [==============================] - 0s 3ms/step - loss: 0.6802 - accuracy: 0.5806\n",
      "Epoch 95/100\n",
      "93/93 [==============================] - 0s 2ms/step - loss: 0.6804 - accuracy: 0.5806\n",
      "Epoch 96/100\n",
      "93/93 [==============================] - 0s 2ms/step - loss: 0.6803 - accuracy: 0.5806\n",
      "Epoch 97/100\n",
      "93/93 [==============================] - 0s 2ms/step - loss: 0.6802 - accuracy: 0.5806\n",
      "Epoch 98/100\n",
      "93/93 [==============================] - 0s 2ms/step - loss: 0.6803 - accuracy: 0.5806\n",
      "Epoch 99/100\n",
      "93/93 [==============================] - 0s 2ms/step - loss: 0.6804 - accuracy: 0.5806\n",
      "Epoch 100/100\n",
      "93/93 [==============================] - 0s 2ms/step - loss: 0.6803 - accuracy: 0.5806\n"
     ]
    }
   ],
   "source": [
    "history = model.fit(X, Y, epochs=100, batch_size = 1, verbose = 1)"
   ]
  },
  {
   "cell_type": "code",
   "execution_count": 20,
   "metadata": {
    "colab": {
     "base_uri": "https://localhost:8080/",
     "height": 0
    },
    "executionInfo": {
     "elapsed": 816,
     "status": "ok",
     "timestamp": 1707733439310,
     "user": {
      "displayName": "KOMAL CHITNIS",
      "userId": "14550219620501170388"
     },
     "user_tz": -330
    },
    "id": "D2vbj6E61kH9",
    "outputId": "dc5e6c04-c5ae-4385-8d21-6985e0a45b77"
   },
   "outputs": [
    {
     "name": "stdout",
     "output_type": "stream",
     "text": [
      "3/3 [==============================] - 0s 4ms/step - loss: 0.6801 - accuracy: 0.5806\n",
      "Loss:0.6800844073295593, Accuracy:0.5806451439857483\n"
     ]
    }
   ],
   "source": [
    "loss, accuracy = model.evaluate(X, Y)\n",
    "print(f'Loss:{loss}, Accuracy:{accuracy}')"
   ]
  },
  {
   "cell_type": "code",
   "execution_count": 23,
   "metadata": {
    "colab": {
     "base_uri": "https://localhost:8080/",
     "height": 472
    },
    "executionInfo": {
     "elapsed": 565,
     "status": "ok",
     "timestamp": 1707733601769,
     "user": {
      "displayName": "KOMAL CHITNIS",
      "userId": "14550219620501170388"
     },
     "user_tz": -330
    },
    "id": "7t0rd1R12AhM",
    "outputId": "301a11ce-a5ed-4922-ba5b-332995f1e54a"
   },
   "outputs": [
    {
     "data": {
      "image/png": "[encoded data removed]",
      "text/plain": [
       "<Figure size 640x480 with 1 Axes>"
      ]
     },
     "metadata": {},
     "output_type": "display_data"
    }
   ],
   "source": [
    "import matplotlib.pyplot as plt\n",
    "plt.plot(history.history['loss'])\n",
    "plt.title('Model Loss')\n",
    "plt.xlabel('Epochs')\n",
    "plt.ylabel('Loss')\n",
    "plt.show()"
   ]
  },
  {
   "cell_type": "code",
   "execution_count": 24,
   "metadata": {
    "colab": {
     "base_uri": "https://localhost:8080/",
     "height": 472
    },
    "executionInfo": {
     "elapsed": 534,
     "status": "ok",
     "timestamp": 1707733660163,
     "user": {
      "displayName": "KOMAL CHITNIS",
      "userId": "14550219620501170388"
     },
     "user_tz": -330
    },
    "id": "krao4FRq2l2M",
    "outputId": "43ba9035-dda2-4c3a-805a-7f593941e5e6"
   },
   "outputs": [
    {
     "data": {
      "image/png": "[encoded data removed]",
      "text/plain": [
       "<Figure size 640x480 with 1 Axes>"
      ]
     },
     "metadata": {},
     "output_type": "display_data"
    }
   ],
   "source": [
    "import matplotlib.pyplot as plt\n",
    "plt.plot(history.history['accuracy'])\n",
    "plt.title('Model Acccuracy')\n",
    "plt.xlabel('Epochs')\n",
    "plt.ylabel('Accuracy')\n",
    "plt.show()"
   ]
  },
  {
   "cell_type": "code",
   "execution_count": 25,
   "metadata": {
    "colab": {
     "base_uri": "https://localhost:8080/",
     "height": 0
    },
    "executionInfo": {
     "elapsed": 420,
     "status": "ok",
     "timestamp": 1707733980246,
     "user": {
      "displayName": "KOMAL CHITNIS",
      "userId": "14550219620501170388"
     },
     "user_tz": -330
    },
    "id": "tB1Hzn8C26tJ",
    "outputId": "d7542c3c-365a-4177-8921-4fbb5415175e"
   },
   "outputs": [
    {
     "name": "stdout",
     "output_type": "stream",
     "text": [
      "1/1 [==============================] - 0s 88ms/step\n"
     ]
    }
   ],
   "source": [
    "import numpy as np\n",
    "new_data = np.array([[8.1, 6.1]])\n",
    "prediction = model.predict(new_data)"
   ]
  },
  {
   "cell_type": "code",
   "execution_count": 26,
   "metadata": {
    "colab": {
     "base_uri": "https://localhost:8080/",
     "height": 0
    },
    "executionInfo": {
     "elapsed": 7,
     "status": "ok",
     "timestamp": 1707733984428,
     "user": {
      "displayName": "KOMAL CHITNIS",
      "userId": "14550219620501170388"
     },
     "user_tz": -330
    },
    "id": "og3lHXPK4BLW",
    "outputId": "56dd66ec-7d49-42c7-f691-683af382af3f"
   },
   "outputs": [
    {
     "data": {
      "text/plain": [
       "array([[0.5797905]], dtype=float32)"
      ]
     },
     "execution_count": 26,
     "metadata": {},
     "output_type": "execute_result"
    }
   ],
   "source": [
    "prediction"
   ]
  },
  {
   "cell_type": "code",
   "execution_count": 27,
   "metadata": {
    "colab": {
     "base_uri": "https://localhost:8080/",
     "height": 0
    },
    "executionInfo": {
     "elapsed": 403,
     "status": "ok",
     "timestamp": 1707734080313,
     "user": {
      "displayName": "KOMAL CHITNIS",
      "userId": "14550219620501170388"
     },
     "user_tz": -330
    },
    "id": "pivYSpfW4BfW",
    "outputId": "bdf8d622-8bca-4116-87b5-1fffc5ccb63c"
   },
   "outputs": [
    {
     "name": "stdout",
     "output_type": "stream",
     "text": [
      "Prediction: [[1]]\n"
     ]
    }
   ],
   "source": [
    "prediction_binary = (prediction > 0.5).astype(int)\n",
    "print(\"Prediction:\", prediction_binary)"
   ]
  }
 ],
 "metadata": {
  "colab": {
   "authorship_tag": "ABX9TyPN7WH+7/QN3q0aXIoAULR2",
   "mount_file_id": "1ynzPr8m68B2ilJ300Q9OJFRxErfY0zf0",
   "provenance": []
  },
  "kernelspec": {
   "display_name": "Python 3 (ipykernel)",
   "language": "python",
   "name": "python3"
  },
  "language_info": {
   "codemirror_mode": {
    "name": "ipython",
    "version": 3
   },
   "file_extension": ".py",
   "mimetype": "text/x-python",
   "name": "python",
   "nbconvert_exporter": "python",
   "pygments_lexer": "ipython3",
   "version": "3.10.7"
  }
 },
 "nbformat": 4,
 "nbformat_minor": 1
}
